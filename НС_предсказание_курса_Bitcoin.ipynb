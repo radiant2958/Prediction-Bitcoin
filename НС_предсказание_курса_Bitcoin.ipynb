{
  "nbformat": 4,
  "nbformat_minor": 0,
  "metadata": {
    "colab": {
      "provenance": [],
      "authorship_tag": "ABX9TyN9eXySGELeVgGDgIAK8+Id",
      "include_colab_link": true
    },
    "kernelspec": {
      "name": "python3",
      "display_name": "Python 3"
    },
    "language_info": {
      "name": "python"
    }
  },
  "cells": [
    {
      "cell_type": "markdown",
      "metadata": {
        "id": "view-in-github",
        "colab_type": "text"
      },
      "source": [
        "<a href=\"https://colab.research.google.com/github/radiant2958/Prediction-Bitcoin/blob/main/%D0%9D%D0%A1_%D0%BF%D1%80%D0%B5%D0%B4%D1%81%D0%BA%D0%B0%D0%B7%D0%B0%D0%BD%D0%B8%D0%B5_%D0%BA%D1%83%D1%80%D1%81%D0%B0_Bitcoin.ipynb\" target=\"_parent\"><img src=\"https://colab.research.google.com/assets/colab-badge.svg\" alt=\"Open In Colab\"/></a>"
      ]
    },
    {
      "cell_type": "code",
      "metadata": {
        "id": "Xadlj8ZLZq_X"
      },
      "source": [
        "import pandas as pd\n",
        "import numpy as np\n",
        "from google.colab import drive\n",
        "from tensorflow.keras.models import Sequential, Model\n",
        "from tensorflow.keras.layers import Dense, BatchNormalization, Dropout\n",
        "from sklearn.model_selection import train_test_split\n",
        "import matplotlib.pyplot as plt\n",
        "import re"
      ],
      "execution_count": null,
      "outputs": []
    },
    {
      "cell_type": "code",
      "metadata": {
        "colab": {
          "base_uri": "https://localhost:8080/"
        },
        "id": "mxni6oKxab6q",
        "outputId": "7a5c3c6e-dc6c-431f-f9fc-0e2135fbe1c2"
      },
      "source": [
        "drive.mount('/content/drive')"
      ],
      "execution_count": null,
      "outputs": [
        {
          "output_type": "stream",
          "name": "stdout",
          "text": [
            "Mounted at /content/drive\n"
          ]
        }
      ]
    },
    {
      "cell_type": "code",
      "metadata": {
        "id": "L1IukUowaiVR"
      },
      "source": [
        "data= pd.read_csv('/content/drive/MyDrive/Colab Notebooks/Котировки криптовалюты Bitcoin - Биткоин за прошлые периоды — Investing.com.csv', index_col=0) # подгружаем данные "
      ],
      "execution_count": null,
      "outputs": []
    },
    {
      "cell_type": "code",
      "metadata": {
        "colab": {
          "base_uri": "https://localhost:8080/",
          "height": 238
        },
        "id": "3EcndCJXNz-b",
        "outputId": "fbe0f43d-d4c5-4db4-fdf6-6b558f10723c"
      },
      "source": [
        "data.head() # загружаем данные из базы"
      ],
      "execution_count": null,
      "outputs": [
        {
          "output_type": "execute_result",
          "data": {
            "text/plain": [
              "                Цена     Откр.     Макс.      Мин.   Объём  Изм. %\n",
              "Дата                                                              \n",
              "01.11.2021  60.915,3  61.310,1  62.430,1  59.612,7  61,21K  -0,64%\n",
              "31.10.2021  61.309,6  61.842,2  62.393,7  60.005,7  50,06K  -0,86%\n",
              "30.10.2021  61.840,1  62.245,0  62.338,5  60.786,0  40,51K  -0,65%\n",
              "29.10.2021  62.242,8  60.579,9  62.952,2  60.322,2  63,39K   2,74%\n",
              "28.10.2021  60.582,5  58.437,2  62.251,3  58.128,1  88,47K   3,67%"
            ],
            "text/html": [
              "\n",
              "  <div id=\"df-2d1e421d-aaed-4522-a968-ae77ba5b75c1\">\n",
              "    <div class=\"colab-df-container\">\n",
              "      <div>\n",
              "<style scoped>\n",
              "    .dataframe tbody tr th:only-of-type {\n",
              "        vertical-align: middle;\n",
              "    }\n",
              "\n",
              "    .dataframe tbody tr th {\n",
              "        vertical-align: top;\n",
              "    }\n",
              "\n",
              "    .dataframe thead th {\n",
              "        text-align: right;\n",
              "    }\n",
              "</style>\n",
              "<table border=\"1\" class=\"dataframe\">\n",
              "  <thead>\n",
              "    <tr style=\"text-align: right;\">\n",
              "      <th></th>\n",
              "      <th>Цена</th>\n",
              "      <th>Откр.</th>\n",
              "      <th>Макс.</th>\n",
              "      <th>Мин.</th>\n",
              "      <th>Объём</th>\n",
              "      <th>Изм. %</th>\n",
              "    </tr>\n",
              "    <tr>\n",
              "      <th>Дата</th>\n",
              "      <th></th>\n",
              "      <th></th>\n",
              "      <th></th>\n",
              "      <th></th>\n",
              "      <th></th>\n",
              "      <th></th>\n",
              "    </tr>\n",
              "  </thead>\n",
              "  <tbody>\n",
              "    <tr>\n",
              "      <th>01.11.2021</th>\n",
              "      <td>60.915,3</td>\n",
              "      <td>61.310,1</td>\n",
              "      <td>62.430,1</td>\n",
              "      <td>59.612,7</td>\n",
              "      <td>61,21K</td>\n",
              "      <td>-0,64%</td>\n",
              "    </tr>\n",
              "    <tr>\n",
              "      <th>31.10.2021</th>\n",
              "      <td>61.309,6</td>\n",
              "      <td>61.842,2</td>\n",
              "      <td>62.393,7</td>\n",
              "      <td>60.005,7</td>\n",
              "      <td>50,06K</td>\n",
              "      <td>-0,86%</td>\n",
              "    </tr>\n",
              "    <tr>\n",
              "      <th>30.10.2021</th>\n",
              "      <td>61.840,1</td>\n",
              "      <td>62.245,0</td>\n",
              "      <td>62.338,5</td>\n",
              "      <td>60.786,0</td>\n",
              "      <td>40,51K</td>\n",
              "      <td>-0,65%</td>\n",
              "    </tr>\n",
              "    <tr>\n",
              "      <th>29.10.2021</th>\n",
              "      <td>62.242,8</td>\n",
              "      <td>60.579,9</td>\n",
              "      <td>62.952,2</td>\n",
              "      <td>60.322,2</td>\n",
              "      <td>63,39K</td>\n",
              "      <td>2,74%</td>\n",
              "    </tr>\n",
              "    <tr>\n",
              "      <th>28.10.2021</th>\n",
              "      <td>60.582,5</td>\n",
              "      <td>58.437,2</td>\n",
              "      <td>62.251,3</td>\n",
              "      <td>58.128,1</td>\n",
              "      <td>88,47K</td>\n",
              "      <td>3,67%</td>\n",
              "    </tr>\n",
              "  </tbody>\n",
              "</table>\n",
              "</div>\n",
              "      <button class=\"colab-df-convert\" onclick=\"convertToInteractive('df-2d1e421d-aaed-4522-a968-ae77ba5b75c1')\"\n",
              "              title=\"Convert this dataframe to an interactive table.\"\n",
              "              style=\"display:none;\">\n",
              "        \n",
              "  <svg xmlns=\"http://www.w3.org/2000/svg\" height=\"24px\"viewBox=\"0 0 24 24\"\n",
              "       width=\"24px\">\n",
              "    <path d=\"M0 0h24v24H0V0z\" fill=\"none\"/>\n",
              "    <path d=\"M18.56 5.44l.94 2.06.94-2.06 2.06-.94-2.06-.94-.94-2.06-.94 2.06-2.06.94zm-11 1L8.5 8.5l.94-2.06 2.06-.94-2.06-.94L8.5 2.5l-.94 2.06-2.06.94zm10 10l.94 2.06.94-2.06 2.06-.94-2.06-.94-.94-2.06-.94 2.06-2.06.94z\"/><path d=\"M17.41 7.96l-1.37-1.37c-.4-.4-.92-.59-1.43-.59-.52 0-1.04.2-1.43.59L10.3 9.45l-7.72 7.72c-.78.78-.78 2.05 0 2.83L4 21.41c.39.39.9.59 1.41.59.51 0 1.02-.2 1.41-.59l7.78-7.78 2.81-2.81c.8-.78.8-2.07 0-2.86zM5.41 20L4 18.59l7.72-7.72 1.47 1.35L5.41 20z\"/>\n",
              "  </svg>\n",
              "      </button>\n",
              "      \n",
              "  <style>\n",
              "    .colab-df-container {\n",
              "      display:flex;\n",
              "      flex-wrap:wrap;\n",
              "      gap: 12px;\n",
              "    }\n",
              "\n",
              "    .colab-df-convert {\n",
              "      background-color: #E8F0FE;\n",
              "      border: none;\n",
              "      border-radius: 50%;\n",
              "      cursor: pointer;\n",
              "      display: none;\n",
              "      fill: #1967D2;\n",
              "      height: 32px;\n",
              "      padding: 0 0 0 0;\n",
              "      width: 32px;\n",
              "    }\n",
              "\n",
              "    .colab-df-convert:hover {\n",
              "      background-color: #E2EBFA;\n",
              "      box-shadow: 0px 1px 2px rgba(60, 64, 67, 0.3), 0px 1px 3px 1px rgba(60, 64, 67, 0.15);\n",
              "      fill: #174EA6;\n",
              "    }\n",
              "\n",
              "    [theme=dark] .colab-df-convert {\n",
              "      background-color: #3B4455;\n",
              "      fill: #D2E3FC;\n",
              "    }\n",
              "\n",
              "    [theme=dark] .colab-df-convert:hover {\n",
              "      background-color: #434B5C;\n",
              "      box-shadow: 0px 1px 3px 1px rgba(0, 0, 0, 0.15);\n",
              "      filter: drop-shadow(0px 1px 2px rgba(0, 0, 0, 0.3));\n",
              "      fill: #FFFFFF;\n",
              "    }\n",
              "  </style>\n",
              "\n",
              "      <script>\n",
              "        const buttonEl =\n",
              "          document.querySelector('#df-2d1e421d-aaed-4522-a968-ae77ba5b75c1 button.colab-df-convert');\n",
              "        buttonEl.style.display =\n",
              "          google.colab.kernel.accessAllowed ? 'block' : 'none';\n",
              "\n",
              "        async function convertToInteractive(key) {\n",
              "          const element = document.querySelector('#df-2d1e421d-aaed-4522-a968-ae77ba5b75c1');\n",
              "          const dataTable =\n",
              "            await google.colab.kernel.invokeFunction('convertToInteractive',\n",
              "                                                     [key], {});\n",
              "          if (!dataTable) return;\n",
              "\n",
              "          const docLinkHtml = 'Like what you see? Visit the ' +\n",
              "            '<a target=\"_blank\" href=https://colab.research.google.com/notebooks/data_table.ipynb>data table notebook</a>'\n",
              "            + ' to learn more about interactive tables.';\n",
              "          element.innerHTML = '';\n",
              "          dataTable['output_type'] = 'display_data';\n",
              "          await google.colab.output.renderOutput(dataTable, element);\n",
              "          const docLink = document.createElement('div');\n",
              "          docLink.innerHTML = docLinkHtml;\n",
              "          element.appendChild(docLink);\n",
              "        }\n",
              "      </script>\n",
              "    </div>\n",
              "  </div>\n",
              "  "
            ]
          },
          "metadata": {},
          "execution_count": 4
        }
      ]
    },
    {
      "cell_type": "code",
      "metadata": {
        "id": "45Jsh88l0J4j"
      },
      "source": [
        "data['Цена'] = [x.replace('.', '') for x in data['Цена']]\n",
        "data['Цена'] = [x.replace(',', '.') for x in data['Цена']]\n",
        "data['Цена'] = data['Цена'].astype(float)"
      ],
      "execution_count": null,
      "outputs": []
    },
    {
      "cell_type": "markdown",
      "source": [
        "Убираем лишние знаки и приводим к единому типу данные\n"
      ],
      "metadata": {
        "id": "i25zbR0SA_LV"
      }
    },
    {
      "cell_type": "code",
      "metadata": {
        "id": "3CrxRYNj1vny"
      },
      "source": [
        "data['Откр.'] = [x.replace('.', '') for x in data['Откр.']]\n",
        "data['Откр.'] = [x.replace(',', '.') for x in data['Откр.']]\n",
        "data['Откр.'] = data['Откр.'].astype(float)"
      ],
      "execution_count": null,
      "outputs": []
    },
    {
      "cell_type": "code",
      "metadata": {
        "id": "Vb8XR2ni2OyI"
      },
      "source": [
        "data['Макс.'] = [x.replace('.', '') for x in data['Макс.']] \n",
        "data['Макс.'] = [x.replace(',', '.') for x in data['Макс.']] \n",
        "data['Макс.'] = data['Макс.'].astype(float)"
      ],
      "execution_count": null,
      "outputs": []
    },
    {
      "cell_type": "code",
      "metadata": {
        "id": "h17w9F5S2mdo"
      },
      "source": [
        "data['Мин.'] = [x.replace('.', '') for x in data['Мин.']]\n",
        "data['Мин.'] = [x.replace(',', '.') for x in data['Мин.']]\n",
        "data['Мин.'] = data['Мин.'].astype(float)"
      ],
      "execution_count": null,
      "outputs": []
    },
    {
      "cell_type": "code",
      "metadata": {
        "colab": {
          "base_uri": "https://localhost:8080/"
        },
        "id": "NZN0SpsR7LCl",
        "outputId": "f847409d-e436-4227-ca29-bd5339aac37b"
      },
      "source": [
        "data.dtypes"
      ],
      "execution_count": null,
      "outputs": [
        {
          "output_type": "execute_result",
          "data": {
            "text/plain": [
              "Цена      float64\n",
              "Откр.     float64\n",
              "Макс.     float64\n",
              "Мин.      float64\n",
              "Объём      object\n",
              "Изм. %     object\n",
              "dtype: object"
            ]
          },
          "metadata": {},
          "execution_count": 9
        }
      ]
    },
    {
      "cell_type": "code",
      "metadata": {
        "id": "t-yfCY9jNYSe"
      },
      "source": [
        "def voles (data):\n",
        "\n",
        "    \n",
        "    vol_lst = data['Объём'].to_list()\n",
        "    \n",
        "\n",
        "    add_v = []\n",
        "    \n",
        "\n",
        "    for v in vol_lst:\n",
        "        if v == '-':\n",
        "            add_v.append(0)\n",
        "        else:\n",
        "            add = re.sub(r',', '.',v)\n",
        "            add_v.append(add)\n",
        "           \n",
        "    return add_v\n",
        "\n",
        "def convertV(v):\n",
        "  vol_lst = v\n",
        "  add_v = []\n",
        "  for v in vol_lst:\n",
        "        if v == '-':\n",
        "            add_v.append(0)\n",
        "        else:\n",
        "            exam = re.findall(r'K',v)\n",
        "            if len(exam)>0:\n",
        "                add = re.sub(r'K', '',v)\n",
        "                add = float(add)\n",
        "                add *= 1000\n",
        "                add_v.append(add)\n",
        "            else:\n",
        "                add = re.sub(r'M', '',v)\n",
        "                add = float(add)\n",
        "                add *= 1000000\n",
        "                add_v.append(add)\n",
        "  return add_v\n"
      ],
      "execution_count": null,
      "outputs": []
    },
    {
      "cell_type": "code",
      "metadata": {
        "id": "HeME_l0ZMqDS"
      },
      "source": [
        "v=voles(data)\n",
        "Vol = convertV(v)\n",
        "data['Объём'] = Vol"
      ],
      "execution_count": null,
      "outputs": []
    },
    {
      "cell_type": "code",
      "metadata": {
        "id": "Va7EudhtLqps"
      },
      "source": [
        "def change(data):\n",
        "  change_lst = data['Изм. %'].to_list()\n",
        "  add_ch = []\n",
        "  for i in change_lst:\n",
        "        add = re.sub(r'%', '',i)\n",
        "        add_ch.append(add)\n",
        "  return add_ch"
      ],
      "execution_count": null,
      "outputs": []
    },
    {
      "cell_type": "code",
      "metadata": {
        "id": "FIyYJMngPcVH"
      },
      "source": [
        "ch=change(data)"
      ],
      "execution_count": null,
      "outputs": []
    },
    {
      "cell_type": "code",
      "metadata": {
        "id": "d6ILOZaJCthN"
      },
      "source": [
        "data['Изм. %']=ch\n",
        "data['Изм. %'] = [x.replace(',', '.') for x in data['Изм. %']] \n",
        "data['Изм. %'] = data['Изм. %'].astype(float)"
      ],
      "execution_count": null,
      "outputs": []
    },
    {
      "cell_type": "markdown",
      "source": [
        "Проверяем данные "
      ],
      "metadata": {
        "id": "i5jATK1qALNs"
      }
    },
    {
      "cell_type": "code",
      "metadata": {
        "colab": {
          "base_uri": "https://localhost:8080/",
          "height": 238
        },
        "id": "dILqNLkiRmdV",
        "outputId": "38ca7ba7-3868-46a5-d8da-f08525782e29"
      },
      "source": [
        "data.head()"
      ],
      "execution_count": null,
      "outputs": [
        {
          "output_type": "execute_result",
          "data": {
            "text/plain": [
              "               Цена    Откр.    Макс.     Мин.    Объём  Изм. %\n",
              "Дата                                                           \n",
              "01.11.2021  60915.3  61310.1  62430.1  59612.7  61210.0   -0.64\n",
              "31.10.2021  61309.6  61842.2  62393.7  60005.7  50060.0   -0.86\n",
              "30.10.2021  61840.1  62245.0  62338.5  60786.0  40510.0   -0.65\n",
              "29.10.2021  62242.8  60579.9  62952.2  60322.2  63390.0    2.74\n",
              "28.10.2021  60582.5  58437.2  62251.3  58128.1  88470.0    3.67"
            ],
            "text/html": [
              "\n",
              "  <div id=\"df-41ef9b2b-358b-4a01-8f69-6e292437eced\">\n",
              "    <div class=\"colab-df-container\">\n",
              "      <div>\n",
              "<style scoped>\n",
              "    .dataframe tbody tr th:only-of-type {\n",
              "        vertical-align: middle;\n",
              "    }\n",
              "\n",
              "    .dataframe tbody tr th {\n",
              "        vertical-align: top;\n",
              "    }\n",
              "\n",
              "    .dataframe thead th {\n",
              "        text-align: right;\n",
              "    }\n",
              "</style>\n",
              "<table border=\"1\" class=\"dataframe\">\n",
              "  <thead>\n",
              "    <tr style=\"text-align: right;\">\n",
              "      <th></th>\n",
              "      <th>Цена</th>\n",
              "      <th>Откр.</th>\n",
              "      <th>Макс.</th>\n",
              "      <th>Мин.</th>\n",
              "      <th>Объём</th>\n",
              "      <th>Изм. %</th>\n",
              "    </tr>\n",
              "    <tr>\n",
              "      <th>Дата</th>\n",
              "      <th></th>\n",
              "      <th></th>\n",
              "      <th></th>\n",
              "      <th></th>\n",
              "      <th></th>\n",
              "      <th></th>\n",
              "    </tr>\n",
              "  </thead>\n",
              "  <tbody>\n",
              "    <tr>\n",
              "      <th>01.11.2021</th>\n",
              "      <td>60915.3</td>\n",
              "      <td>61310.1</td>\n",
              "      <td>62430.1</td>\n",
              "      <td>59612.7</td>\n",
              "      <td>61210.0</td>\n",
              "      <td>-0.64</td>\n",
              "    </tr>\n",
              "    <tr>\n",
              "      <th>31.10.2021</th>\n",
              "      <td>61309.6</td>\n",
              "      <td>61842.2</td>\n",
              "      <td>62393.7</td>\n",
              "      <td>60005.7</td>\n",
              "      <td>50060.0</td>\n",
              "      <td>-0.86</td>\n",
              "    </tr>\n",
              "    <tr>\n",
              "      <th>30.10.2021</th>\n",
              "      <td>61840.1</td>\n",
              "      <td>62245.0</td>\n",
              "      <td>62338.5</td>\n",
              "      <td>60786.0</td>\n",
              "      <td>40510.0</td>\n",
              "      <td>-0.65</td>\n",
              "    </tr>\n",
              "    <tr>\n",
              "      <th>29.10.2021</th>\n",
              "      <td>62242.8</td>\n",
              "      <td>60579.9</td>\n",
              "      <td>62952.2</td>\n",
              "      <td>60322.2</td>\n",
              "      <td>63390.0</td>\n",
              "      <td>2.74</td>\n",
              "    </tr>\n",
              "    <tr>\n",
              "      <th>28.10.2021</th>\n",
              "      <td>60582.5</td>\n",
              "      <td>58437.2</td>\n",
              "      <td>62251.3</td>\n",
              "      <td>58128.1</td>\n",
              "      <td>88470.0</td>\n",
              "      <td>3.67</td>\n",
              "    </tr>\n",
              "  </tbody>\n",
              "</table>\n",
              "</div>\n",
              "      <button class=\"colab-df-convert\" onclick=\"convertToInteractive('df-41ef9b2b-358b-4a01-8f69-6e292437eced')\"\n",
              "              title=\"Convert this dataframe to an interactive table.\"\n",
              "              style=\"display:none;\">\n",
              "        \n",
              "  <svg xmlns=\"http://www.w3.org/2000/svg\" height=\"24px\"viewBox=\"0 0 24 24\"\n",
              "       width=\"24px\">\n",
              "    <path d=\"M0 0h24v24H0V0z\" fill=\"none\"/>\n",
              "    <path d=\"M18.56 5.44l.94 2.06.94-2.06 2.06-.94-2.06-.94-.94-2.06-.94 2.06-2.06.94zm-11 1L8.5 8.5l.94-2.06 2.06-.94-2.06-.94L8.5 2.5l-.94 2.06-2.06.94zm10 10l.94 2.06.94-2.06 2.06-.94-2.06-.94-.94-2.06-.94 2.06-2.06.94z\"/><path d=\"M17.41 7.96l-1.37-1.37c-.4-.4-.92-.59-1.43-.59-.52 0-1.04.2-1.43.59L10.3 9.45l-7.72 7.72c-.78.78-.78 2.05 0 2.83L4 21.41c.39.39.9.59 1.41.59.51 0 1.02-.2 1.41-.59l7.78-7.78 2.81-2.81c.8-.78.8-2.07 0-2.86zM5.41 20L4 18.59l7.72-7.72 1.47 1.35L5.41 20z\"/>\n",
              "  </svg>\n",
              "      </button>\n",
              "      \n",
              "  <style>\n",
              "    .colab-df-container {\n",
              "      display:flex;\n",
              "      flex-wrap:wrap;\n",
              "      gap: 12px;\n",
              "    }\n",
              "\n",
              "    .colab-df-convert {\n",
              "      background-color: #E8F0FE;\n",
              "      border: none;\n",
              "      border-radius: 50%;\n",
              "      cursor: pointer;\n",
              "      display: none;\n",
              "      fill: #1967D2;\n",
              "      height: 32px;\n",
              "      padding: 0 0 0 0;\n",
              "      width: 32px;\n",
              "    }\n",
              "\n",
              "    .colab-df-convert:hover {\n",
              "      background-color: #E2EBFA;\n",
              "      box-shadow: 0px 1px 2px rgba(60, 64, 67, 0.3), 0px 1px 3px 1px rgba(60, 64, 67, 0.15);\n",
              "      fill: #174EA6;\n",
              "    }\n",
              "\n",
              "    [theme=dark] .colab-df-convert {\n",
              "      background-color: #3B4455;\n",
              "      fill: #D2E3FC;\n",
              "    }\n",
              "\n",
              "    [theme=dark] .colab-df-convert:hover {\n",
              "      background-color: #434B5C;\n",
              "      box-shadow: 0px 1px 3px 1px rgba(0, 0, 0, 0.15);\n",
              "      filter: drop-shadow(0px 1px 2px rgba(0, 0, 0, 0.3));\n",
              "      fill: #FFFFFF;\n",
              "    }\n",
              "  </style>\n",
              "\n",
              "      <script>\n",
              "        const buttonEl =\n",
              "          document.querySelector('#df-41ef9b2b-358b-4a01-8f69-6e292437eced button.colab-df-convert');\n",
              "        buttonEl.style.display =\n",
              "          google.colab.kernel.accessAllowed ? 'block' : 'none';\n",
              "\n",
              "        async function convertToInteractive(key) {\n",
              "          const element = document.querySelector('#df-41ef9b2b-358b-4a01-8f69-6e292437eced');\n",
              "          const dataTable =\n",
              "            await google.colab.kernel.invokeFunction('convertToInteractive',\n",
              "                                                     [key], {});\n",
              "          if (!dataTable) return;\n",
              "\n",
              "          const docLinkHtml = 'Like what you see? Visit the ' +\n",
              "            '<a target=\"_blank\" href=https://colab.research.google.com/notebooks/data_table.ipynb>data table notebook</a>'\n",
              "            + ' to learn more about interactive tables.';\n",
              "          element.innerHTML = '';\n",
              "          dataTable['output_type'] = 'display_data';\n",
              "          await google.colab.output.renderOutput(dataTable, element);\n",
              "          const docLink = document.createElement('div');\n",
              "          docLink.innerHTML = docLinkHtml;\n",
              "          element.appendChild(docLink);\n",
              "        }\n",
              "      </script>\n",
              "    </div>\n",
              "  </div>\n",
              "  "
            ]
          },
          "metadata": {},
          "execution_count": 15
        }
      ]
    },
    {
      "cell_type": "code",
      "metadata": {
        "colab": {
          "base_uri": "https://localhost:8080/"
        },
        "id": "danMzz6rGQe-",
        "outputId": "8752183a-b9ec-4460-e3c6-533228c56d05"
      },
      "source": [
        "data.dtypes "
      ],
      "execution_count": null,
      "outputs": [
        {
          "output_type": "execute_result",
          "data": {
            "text/plain": [
              "Цена      float64\n",
              "Откр.     float64\n",
              "Макс.     float64\n",
              "Мин.      float64\n",
              "Объём     float64\n",
              "Изм. %    float64\n",
              "dtype: object"
            ]
          },
          "metadata": {},
          "execution_count": 16
        }
      ]
    },
    {
      "cell_type": "markdown",
      "source": [
        "Делим данные на обучающие и тренировочные выбоки"
      ],
      "metadata": {
        "id": "xLoQbHC_BI2G"
      }
    },
    {
      "cell_type": "code",
      "metadata": {
        "id": "k91e2R4-jU4f"
      },
      "source": [
        "Xtrain= np.array(data[['Откр.','Макс.','Мин.','Объём','Изм. %']])\n",
        "Ytrain= np.array(data['Цена'])"
      ],
      "execution_count": null,
      "outputs": []
    },
    {
      "cell_type": "code",
      "metadata": {
        "id": "_Hmb29BenQfr"
      },
      "source": [
        "x_train,x_test,y_train,y_tast= train_test_split(Xtrain,Ytrain, test_size=0.10)"
      ],
      "execution_count": null,
      "outputs": []
    },
    {
      "cell_type": "code",
      "metadata": {
        "colab": {
          "base_uri": "https://localhost:8080/"
        },
        "id": "aAi9nfWxq7ms",
        "outputId": "de1a6e64-4a59-4909-935b-33e90ee891c8"
      },
      "source": [
        "x_train.size"
      ],
      "execution_count": null,
      "outputs": [
        {
          "output_type": "execute_result",
          "data": {
            "text/plain": [
              "16165"
            ]
          },
          "metadata": {},
          "execution_count": 19
        }
      ]
    },
    {
      "cell_type": "code",
      "metadata": {
        "colab": {
          "base_uri": "https://localhost:8080/"
        },
        "id": "eejCRGHfq_wC",
        "outputId": "f8fda16f-2e24-46a7-f0af-5fd93b68a906"
      },
      "source": [
        "y_train.size"
      ],
      "execution_count": null,
      "outputs": [
        {
          "output_type": "execute_result",
          "data": {
            "text/plain": [
              "3233"
            ]
          },
          "metadata": {},
          "execution_count": 20
        }
      ]
    },
    {
      "cell_type": "markdown",
      "source": [
        "Простая нейронная сеть \n"
      ],
      "metadata": {
        "id": "syMi8ApwBiY_"
      }
    },
    {
      "cell_type": "code",
      "metadata": {
        "id": "o0HDPLHpn493"
      },
      "source": [
        "# Обучаем модель полученными данными\n",
        "model=Sequential()\n",
        "model.add(Dense(250, input_dim=5, activation='relu'))\n",
        "model.add(Dense(150, activation='relu'))\n",
        "model.add(Dense(1,activation='linear'))\n",
        "model.compile(loss='mse', optimizer='adam', metrics=['mae'])\n"
      ],
      "execution_count": null,
      "outputs": []
    },
    {
      "cell_type": "code",
      "metadata": {
        "colab": {
          "base_uri": "https://localhost:8080/"
        },
        "id": "n8BcUmyqpdei",
        "outputId": "0a11131f-2ea2-4db1-9f3d-c21f84aaa3ef"
      },
      "source": [
        "history=model.fit(x_train,y_train,\n",
        "                  batch_size=50,\n",
        "                  epochs=100,\n",
        "                  validation_data=(x_test,y_tast),\n",
        "                  verbose=1,shuffle=True)"
      ],
      "execution_count": null,
      "outputs": [
        {
          "output_type": "stream",
          "name": "stdout",
          "text": [
            "Epoch 1/100\n",
            "65/65 [==============================] - 1s 4ms/step - loss: 4146230784.0000 - mae: 17857.5762 - val_loss: 676303680.0000 - val_mae: 10789.0293\n",
            "Epoch 2/100\n",
            "65/65 [==============================] - 0s 2ms/step - loss: 503652608.0000 - mae: 6078.5894 - val_loss: 21890980.0000 - val_mae: 2350.3003\n",
            "Epoch 3/100\n",
            "65/65 [==============================] - 0s 2ms/step - loss: 10509488.0000 - mae: 1213.9556 - val_loss: 1464381.1250 - val_mae: 638.5609\n",
            "Epoch 4/100\n",
            "65/65 [==============================] - 0s 2ms/step - loss: 92131848.0000 - mae: 2775.4680 - val_loss: 85021064.0000 - val_mae: 3549.3447\n",
            "Epoch 5/100\n",
            "65/65 [==============================] - 0s 2ms/step - loss: 36204096.0000 - mae: 1739.0807 - val_loss: 19778860.0000 - val_mae: 1472.5292\n",
            "Epoch 6/100\n",
            "65/65 [==============================] - 0s 2ms/step - loss: 93825024.0000 - mae: 2293.6492 - val_loss: 12985847.0000 - val_mae: 1507.6575\n",
            "Epoch 7/100\n",
            "65/65 [==============================] - 0s 2ms/step - loss: 33778660.0000 - mae: 1564.5248 - val_loss: 1093166.3750 - val_mae: 404.2832\n",
            "Epoch 8/100\n",
            "65/65 [==============================] - 0s 2ms/step - loss: 517698.2812 - mae: 329.0765 - val_loss: 802768.0000 - val_mae: 490.2027\n",
            "Epoch 9/100\n",
            "65/65 [==============================] - 0s 2ms/step - loss: 838579.1875 - mae: 361.6240 - val_loss: 364892.4375 - val_mae: 312.6038\n",
            "Epoch 10/100\n",
            "65/65 [==============================] - 0s 2ms/step - loss: 307226.2188 - mae: 254.5320 - val_loss: 337443.0938 - val_mae: 258.7355\n",
            "Epoch 11/100\n",
            "65/65 [==============================] - 0s 2ms/step - loss: 254034.0469 - mae: 230.0863 - val_loss: 295864.6250 - val_mae: 244.7979\n",
            "Epoch 12/100\n",
            "65/65 [==============================] - 0s 2ms/step - loss: 241138.0781 - mae: 224.7631 - val_loss: 323336.5312 - val_mae: 256.7482\n",
            "Epoch 13/100\n",
            "65/65 [==============================] - 0s 2ms/step - loss: 3098817.5000 - mae: 520.5880 - val_loss: 292360.7812 - val_mae: 261.8146\n",
            "Epoch 14/100\n",
            "65/65 [==============================] - 0s 2ms/step - loss: 20823526.0000 - mae: 1039.1705 - val_loss: 443260.9688 - val_mae: 303.6776\n",
            "Epoch 15/100\n",
            "65/65 [==============================] - 0s 2ms/step - loss: 694262.5625 - mae: 316.1862 - val_loss: 736131.7500 - val_mae: 451.4591\n",
            "Epoch 16/100\n",
            "65/65 [==============================] - 0s 2ms/step - loss: 239144080.0000 - mae: 3282.9753 - val_loss: 2357076.0000 - val_mae: 579.7482\n",
            "Epoch 17/100\n",
            "65/65 [==============================] - 0s 2ms/step - loss: 4627025920.0000 - mae: 15478.9277 - val_loss: 34964052.0000 - val_mae: 2012.3494\n",
            "Epoch 18/100\n",
            "65/65 [==============================] - 0s 2ms/step - loss: 44565036.0000 - mae: 1692.3193 - val_loss: 1461423.7500 - val_mae: 637.2196\n",
            "Epoch 19/100\n",
            "65/65 [==============================] - 0s 2ms/step - loss: 4082479.5000 - mae: 774.0900 - val_loss: 1127597.7500 - val_mae: 632.2280\n",
            "Epoch 20/100\n",
            "65/65 [==============================] - 0s 2ms/step - loss: 625760.5000 - mae: 369.6224 - val_loss: 379440.8750 - val_mae: 286.9499\n",
            "Epoch 21/100\n",
            "65/65 [==============================] - 0s 2ms/step - loss: 1548699.8750 - mae: 385.3266 - val_loss: 468133.8750 - val_mae: 367.1196\n",
            "Epoch 22/100\n",
            "65/65 [==============================] - 0s 3ms/step - loss: 277024.5000 - mae: 216.9548 - val_loss: 240421.1719 - val_mae: 207.9493\n",
            "Epoch 23/100\n",
            "65/65 [==============================] - 0s 2ms/step - loss: 505118.2188 - mae: 269.3314 - val_loss: 821982.5625 - val_mae: 412.1900\n",
            "Epoch 24/100\n",
            "65/65 [==============================] - 0s 2ms/step - loss: 337843.5938 - mae: 207.2454 - val_loss: 210855.0938 - val_mae: 182.7358\n",
            "Epoch 25/100\n",
            "65/65 [==============================] - 0s 2ms/step - loss: 145770.7969 - mae: 143.8515 - val_loss: 244118.8438 - val_mae: 192.1429\n",
            "Epoch 26/100\n",
            "65/65 [==============================] - 0s 2ms/step - loss: 310447.0312 - mae: 218.5260 - val_loss: 270623.1875 - val_mae: 206.5622\n",
            "Epoch 27/100\n",
            "65/65 [==============================] - 0s 2ms/step - loss: 959275.5000 - mae: 329.0072 - val_loss: 238365.7188 - val_mae: 221.7794\n",
            "Epoch 28/100\n",
            "65/65 [==============================] - 0s 2ms/step - loss: 206286.7500 - mae: 186.4917 - val_loss: 203910.5312 - val_mae: 178.8541\n",
            "Epoch 29/100\n",
            "65/65 [==============================] - 0s 2ms/step - loss: 157365.5625 - mae: 156.1700 - val_loss: 248676.2812 - val_mae: 218.7753\n",
            "Epoch 30/100\n",
            "65/65 [==============================] - 0s 2ms/step - loss: 322563.2500 - mae: 226.6342 - val_loss: 225052.2656 - val_mae: 204.6412\n",
            "Epoch 31/100\n",
            "65/65 [==============================] - 0s 2ms/step - loss: 274129.3125 - mae: 197.8729 - val_loss: 520668.0000 - val_mae: 333.8519\n",
            "Epoch 32/100\n",
            "65/65 [==============================] - 0s 2ms/step - loss: 989144.5625 - mae: 327.5108 - val_loss: 6428743.0000 - val_mae: 1135.5254\n",
            "Epoch 33/100\n",
            "65/65 [==============================] - 0s 2ms/step - loss: 2324864.0000 - mae: 493.9139 - val_loss: 298581.4688 - val_mae: 277.9025\n",
            "Epoch 34/100\n",
            "65/65 [==============================] - 0s 2ms/step - loss: 1836872.6250 - mae: 470.8057 - val_loss: 320046.0312 - val_mae: 235.8039\n",
            "Epoch 35/100\n",
            "65/65 [==============================] - 0s 2ms/step - loss: 247090.9531 - mae: 200.1139 - val_loss: 231349.3750 - val_mae: 226.2671\n",
            "Epoch 36/100\n",
            "65/65 [==============================] - 0s 2ms/step - loss: 412201.4062 - mae: 244.1989 - val_loss: 221518.9844 - val_mae: 191.2427\n",
            "Epoch 37/100\n",
            "65/65 [==============================] - 0s 2ms/step - loss: 224787.7969 - mae: 196.6060 - val_loss: 224227.0938 - val_mae: 197.5192\n",
            "Epoch 38/100\n",
            "65/65 [==============================] - 0s 2ms/step - loss: 177387.3125 - mae: 160.3200 - val_loss: 212953.8594 - val_mae: 195.4528\n",
            "Epoch 39/100\n",
            "65/65 [==============================] - 0s 2ms/step - loss: 151214.7812 - mae: 152.0615 - val_loss: 192079.4844 - val_mae: 176.7515\n",
            "Epoch 40/100\n",
            "65/65 [==============================] - 0s 2ms/step - loss: 214407.7031 - mae: 165.1080 - val_loss: 211454.0625 - val_mae: 209.0369\n",
            "Epoch 41/100\n",
            "65/65 [==============================] - 0s 2ms/step - loss: 599866.7500 - mae: 288.4184 - val_loss: 288079.4375 - val_mae: 219.4986\n",
            "Epoch 42/100\n",
            "65/65 [==============================] - 0s 2ms/step - loss: 8834640.0000 - mae: 736.8404 - val_loss: 5796052.0000 - val_mae: 877.9770\n",
            "Epoch 43/100\n",
            "65/65 [==============================] - 0s 2ms/step - loss: 121520184.0000 - mae: 3068.0745 - val_loss: 4579777.0000 - val_mae: 939.2427\n",
            "Epoch 44/100\n",
            "65/65 [==============================] - 0s 2ms/step - loss: 91157416.0000 - mae: 2926.4324 - val_loss: 3942926.5000 - val_mae: 765.2589\n",
            "Epoch 45/100\n",
            "65/65 [==============================] - 0s 2ms/step - loss: 1767489280.0000 - mae: 10568.9785 - val_loss: 848928128.0000 - val_mae: 9211.3184\n",
            "Epoch 46/100\n",
            "65/65 [==============================] - 0s 2ms/step - loss: 37986700.0000 - mae: 1690.6615 - val_loss: 1164161.3750 - val_mae: 576.8120\n",
            "Epoch 47/100\n",
            "65/65 [==============================] - 0s 2ms/step - loss: 1380133.1250 - mae: 504.3252 - val_loss: 370602.0000 - val_mae: 277.4196\n",
            "Epoch 48/100\n",
            "65/65 [==============================] - 0s 2ms/step - loss: 394396.8125 - mae: 260.3400 - val_loss: 287727.9062 - val_mae: 246.7557\n",
            "Epoch 49/100\n",
            "65/65 [==============================] - 0s 3ms/step - loss: 263630.2188 - mae: 211.4304 - val_loss: 241533.7344 - val_mae: 209.9419\n",
            "Epoch 50/100\n",
            "65/65 [==============================] - 0s 2ms/step - loss: 2397320.7500 - mae: 432.7474 - val_loss: 3225204.2500 - val_mae: 896.1369\n",
            "Epoch 51/100\n",
            "65/65 [==============================] - 0s 2ms/step - loss: 1010384.3125 - mae: 343.4875 - val_loss: 322671.4375 - val_mae: 242.4368\n",
            "Epoch 52/100\n",
            "65/65 [==============================] - 0s 2ms/step - loss: 189711.4062 - mae: 178.5290 - val_loss: 224398.0938 - val_mae: 189.9308\n",
            "Epoch 53/100\n",
            "65/65 [==============================] - 0s 2ms/step - loss: 209416.4062 - mae: 181.3457 - val_loss: 281129.8125 - val_mae: 234.8849\n",
            "Epoch 54/100\n",
            "65/65 [==============================] - 0s 2ms/step - loss: 276476.2500 - mae: 198.6535 - val_loss: 229046.8594 - val_mae: 186.4630\n",
            "Epoch 55/100\n",
            "65/65 [==============================] - 0s 2ms/step - loss: 146796.3750 - mae: 144.8027 - val_loss: 201591.5625 - val_mae: 179.9048\n",
            "Epoch 56/100\n",
            "65/65 [==============================] - 0s 2ms/step - loss: 164227.6094 - mae: 154.3541 - val_loss: 197178.4688 - val_mae: 174.1601\n",
            "Epoch 57/100\n",
            "65/65 [==============================] - 0s 2ms/step - loss: 165404.4531 - mae: 155.5368 - val_loss: 214491.4688 - val_mae: 195.0194\n",
            "Epoch 58/100\n",
            "65/65 [==============================] - 0s 2ms/step - loss: 166408.7031 - mae: 156.2357 - val_loss: 202723.5156 - val_mae: 178.9859\n",
            "Epoch 59/100\n",
            "65/65 [==============================] - 0s 2ms/step - loss: 164357.7656 - mae: 156.3359 - val_loss: 250342.7812 - val_mae: 222.4699\n",
            "Epoch 60/100\n",
            "65/65 [==============================] - 0s 2ms/step - loss: 323424.2500 - mae: 228.2889 - val_loss: 264888.1875 - val_mae: 240.0821\n",
            "Epoch 61/100\n",
            "65/65 [==============================] - 0s 2ms/step - loss: 1806722.3750 - mae: 489.9927 - val_loss: 1220644.7500 - val_mae: 590.6923\n",
            "Epoch 62/100\n",
            "65/65 [==============================] - 0s 2ms/step - loss: 1443805.1250 - mae: 448.6823 - val_loss: 367732.6875 - val_mae: 251.3536\n",
            "Epoch 63/100\n",
            "65/65 [==============================] - 0s 2ms/step - loss: 327872.6562 - mae: 220.6654 - val_loss: 351106.1250 - val_mae: 280.7008\n",
            "Epoch 64/100\n",
            "65/65 [==============================] - 0s 3ms/step - loss: 820971.1875 - mae: 330.4071 - val_loss: 917698.1250 - val_mae: 474.3599\n",
            "Epoch 65/100\n",
            "65/65 [==============================] - 0s 2ms/step - loss: 541195.7500 - mae: 249.4952 - val_loss: 228299.1719 - val_mae: 195.3274\n",
            "Epoch 66/100\n",
            "65/65 [==============================] - 0s 2ms/step - loss: 152542.0469 - mae: 145.1504 - val_loss: 216257.8594 - val_mae: 184.7895\n",
            "Epoch 67/100\n",
            "65/65 [==============================] - 0s 2ms/step - loss: 141855.8906 - mae: 138.9558 - val_loss: 192412.1719 - val_mae: 170.0166\n",
            "Epoch 68/100\n",
            "65/65 [==============================] - 0s 3ms/step - loss: 178000.0312 - mae: 156.0742 - val_loss: 221427.5625 - val_mae: 186.4973\n",
            "Epoch 69/100\n",
            "65/65 [==============================] - 0s 2ms/step - loss: 168676.9219 - mae: 162.7964 - val_loss: 197870.3750 - val_mae: 178.8197\n",
            "Epoch 70/100\n",
            "65/65 [==============================] - 0s 2ms/step - loss: 170581.6562 - mae: 156.6353 - val_loss: 417556.6562 - val_mae: 288.1371\n",
            "Epoch 71/100\n",
            "65/65 [==============================] - 0s 2ms/step - loss: 213915.7344 - mae: 171.0985 - val_loss: 189454.6250 - val_mae: 170.9017\n",
            "Epoch 72/100\n",
            "65/65 [==============================] - 0s 2ms/step - loss: 139486.6094 - mae: 139.4191 - val_loss: 189739.3750 - val_mae: 171.3122\n",
            "Epoch 73/100\n",
            "65/65 [==============================] - 0s 2ms/step - loss: 161376.4688 - mae: 149.4895 - val_loss: 212174.1562 - val_mae: 186.1710\n",
            "Epoch 74/100\n",
            "65/65 [==============================] - 0s 2ms/step - loss: 239382.0000 - mae: 162.3235 - val_loss: 1710031.6250 - val_mae: 532.7217\n",
            "Epoch 75/100\n",
            "65/65 [==============================] - 0s 2ms/step - loss: 345459.5312 - mae: 246.8937 - val_loss: 389243.1250 - val_mae: 281.7008\n",
            "Epoch 76/100\n",
            "65/65 [==============================] - 0s 2ms/step - loss: 369427.9688 - mae: 219.5364 - val_loss: 268420.5000 - val_mae: 243.8037\n",
            "Epoch 77/100\n",
            "65/65 [==============================] - 0s 2ms/step - loss: 2064310.6250 - mae: 462.6603 - val_loss: 1654814.0000 - val_mae: 522.7055\n",
            "Epoch 78/100\n",
            "65/65 [==============================] - 0s 2ms/step - loss: 572664.1875 - mae: 293.1363 - val_loss: 482401.5000 - val_mae: 316.7995\n",
            "Epoch 79/100\n",
            "65/65 [==============================] - 0s 2ms/step - loss: 701655.6250 - mae: 288.3537 - val_loss: 583882.6875 - val_mae: 342.3552\n",
            "Epoch 80/100\n",
            "65/65 [==============================] - 0s 2ms/step - loss: 374524.1250 - mae: 217.3238 - val_loss: 186974.9062 - val_mae: 172.3268\n",
            "Epoch 81/100\n",
            "65/65 [==============================] - 0s 2ms/step - loss: 167179.1094 - mae: 161.6381 - val_loss: 217498.8906 - val_mae: 200.8077\n",
            "Epoch 82/100\n",
            "65/65 [==============================] - 0s 2ms/step - loss: 237083.9531 - mae: 184.4272 - val_loss: 860446.2500 - val_mae: 427.6111\n",
            "Epoch 83/100\n",
            "65/65 [==============================] - 0s 2ms/step - loss: 587349.6250 - mae: 304.1086 - val_loss: 261347.1562 - val_mae: 211.6300\n",
            "Epoch 84/100\n",
            "65/65 [==============================] - 0s 2ms/step - loss: 374043.5312 - mae: 215.1113 - val_loss: 1344013.3750 - val_mae: 508.4116\n",
            "Epoch 85/100\n",
            "65/65 [==============================] - 0s 2ms/step - loss: 519164.3438 - mae: 262.0598 - val_loss: 195111.6406 - val_mae: 186.4308\n",
            "Epoch 86/100\n",
            "65/65 [==============================] - 0s 2ms/step - loss: 326177.2812 - mae: 212.3983 - val_loss: 354025.4375 - val_mae: 271.6387\n",
            "Epoch 87/100\n",
            "65/65 [==============================] - 0s 2ms/step - loss: 4775257.5000 - mae: 526.7476 - val_loss: 6113199.0000 - val_mae: 1087.4324\n",
            "Epoch 88/100\n",
            "65/65 [==============================] - 0s 2ms/step - loss: 2367253.7500 - mae: 512.2162 - val_loss: 374740.9375 - val_mae: 295.6281\n",
            "Epoch 89/100\n",
            "65/65 [==============================] - 0s 3ms/step - loss: 230502.8125 - mae: 229.6761 - val_loss: 233079.0000 - val_mae: 213.6698\n",
            "Epoch 90/100\n",
            "65/65 [==============================] - 0s 3ms/step - loss: 214575.3750 - mae: 200.4182 - val_loss: 195486.1562 - val_mae: 197.8016\n",
            "Epoch 91/100\n",
            "65/65 [==============================] - 0s 2ms/step - loss: 710379.0000 - mae: 305.4819 - val_loss: 330587.9688 - val_mae: 232.0455\n",
            "Epoch 92/100\n",
            "65/65 [==============================] - 0s 2ms/step - loss: 227287.0625 - mae: 195.2604 - val_loss: 263139.3438 - val_mae: 239.7164\n",
            "Epoch 93/100\n",
            "65/65 [==============================] - 0s 2ms/step - loss: 2224698.5000 - mae: 475.1187 - val_loss: 879025.6250 - val_mae: 436.5350\n",
            "Epoch 94/100\n",
            "65/65 [==============================] - 0s 2ms/step - loss: 567349.0000 - mae: 323.6151 - val_loss: 646194.9375 - val_mae: 392.4296\n",
            "Epoch 95/100\n",
            "65/65 [==============================] - 0s 2ms/step - loss: 879693.0625 - mae: 306.8060 - val_loss: 245068.2188 - val_mae: 204.5509\n",
            "Epoch 96/100\n",
            "65/65 [==============================] - 0s 2ms/step - loss: 11283397.0000 - mae: 862.0061 - val_loss: 4044992.2500 - val_mae: 883.3135\n",
            "Epoch 97/100\n",
            "65/65 [==============================] - 0s 2ms/step - loss: 145027216.0000 - mae: 3251.1487 - val_loss: 3043072.0000 - val_mae: 753.5498\n",
            "Epoch 98/100\n",
            "65/65 [==============================] - 0s 3ms/step - loss: 777940.0625 - mae: 352.6321 - val_loss: 482314.4062 - val_mae: 361.1361\n",
            "Epoch 99/100\n",
            "65/65 [==============================] - 0s 2ms/step - loss: 240672.2344 - mae: 215.0005 - val_loss: 229854.2188 - val_mae: 214.1493\n",
            "Epoch 100/100\n",
            "65/65 [==============================] - 0s 2ms/step - loss: 184183.5469 - mae: 174.2432 - val_loss: 190523.5625 - val_mae: 184.7850\n"
          ]
        }
      ]
    },
    {
      "cell_type": "code",
      "metadata": {
        "colab": {
          "base_uri": "https://localhost:8080/",
          "height": 279
        },
        "id": "WDE3bxrvB3Sa",
        "outputId": "46eb3af2-35e9-4c33-bdcc-adad5f912a0e"
      },
      "source": [
        "plt.plot(history.history['mae'], \n",
        "         label='Средняя абсолютная ошибка на обучающем наборе')\n",
        "plt.plot(history.history['val_mae'], \n",
        "         label='Средняя абсолютная ошибка на проверочном наборе')\n",
        "plt.xlabel('Эпоха обучения')\n",
        "plt.ylabel('Средняя абсолютная ошибка')\n",
        "plt.legend()\n",
        "plt.show()"
      ],
      "execution_count": null,
      "outputs": [
        {
          "output_type": "display_data",
          "data": {
            "text/plain": [
              "<Figure size 432x288 with 1 Axes>"
            ],
            "image/png": "[encoded data removed]"
          },
          "metadata": {
            "needs_background": "light"
          }
        }
      ]
    },
    {
      "cell_type": "markdown",
      "source": [
        "Оценка результатов"
      ],
      "metadata": {
        "id": "7rqmAAQvCFLB"
      }
    },
    {
      "cell_type": "code",
      "metadata": {
        "colab": {
          "base_uri": "https://localhost:8080/"
        },
        "id": "xnDWJgQQsB9u",
        "outputId": "aff38828-3464-4e9d-e2ab-3227cb1219eb"
      },
      "source": [
        "pred = model.predict(x_test)\n",
        "for i in range(len(pred[:10])):\n",
        "  print(\"Сеть : \", pred[i], \", а верный ответ: \", y_tast[i], \", разница: \", pred[i] - y_tast[i])"
      ],
      "execution_count": null,
      "outputs": [
        {
          "output_type": "stream",
          "name": "stdout",
          "text": [
            "12/12 [==============================] - 0s 1ms/step\n",
            "Сеть :  [47571.938] , а верный ответ:  47936.3 , разница:  [-364.36328]\n",
            "Сеть :  [8706.465] , а верный ответ:  8923.1 , разница:  [-216.63477]\n",
            "Сеть :  [12.921028] , а верный ответ:  46.8 , разница:  [-33.87897]\n",
            "Сеть :  [33692.11] , а верный ответ:  33824.8 , разница:  [-132.6914]\n",
            "Сеть :  [9685.175] , а верный ответ:  10172.7 , разница:  [-487.5254]\n",
            "Сеть :  [2531.2126] , а верный ответ:  2617.3 , разница:  [-86.0874]\n",
            "Сеть :  [688.5028] , а верный ответ:  741.1 , разница:  [-52.597168]\n",
            "Сеть :  [-40.549515] , а верный ответ:  10.9 , разница:  [-51.449516]\n",
            "Сеть :  [114.17011] , а верный ответ:  132.3 , разница:  [-18.12989]\n",
            "Сеть :  [37412.53] , а верный ответ:  36845.8 , разница:  [566.73047]\n"
          ]
        }
      ]
    },
    {
      "cell_type": "markdown",
      "metadata": {
        "id": "S_dTyFwUe_WC"
      },
      "source": [
        "Тема-'Прогнозирование Bitcoin'.\n",
        "Вывод: большое значение ошибки \n",
        "план работы: сделать нормализацию данных, работа с архитектурой сети \n"
      ]
    }
  ]
}